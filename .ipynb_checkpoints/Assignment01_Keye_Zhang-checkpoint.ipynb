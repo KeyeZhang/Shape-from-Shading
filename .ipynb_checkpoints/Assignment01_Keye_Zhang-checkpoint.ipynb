{
 "cells": [
  {
   "cell_type": "markdown",
   "metadata": {},
   "source": [
    "# Common imports"
   ]
  },
  {
   "cell_type": "code",
   "execution_count": 230,
   "metadata": {},
   "outputs": [],
   "source": [
    "%matplotlib inline\n",
    "import os\n",
    "import sys\n",
    "import glob\n",
    "import re\n",
    "import numpy as np\n",
    "import matplotlib\n",
    "import matplotlib.pyplot as plt\n",
    "from mpl_toolkits.mplot3d import Axes3D\n",
    "from PIL import Image"
   ]
  },
  {
   "cell_type": "markdown",
   "metadata": {},
   "source": [
    "# Provided functions\n",
    "### Image loading and saving"
   ]
  },
  {
   "cell_type": "code",
   "execution_count": 231,
   "metadata": {},
   "outputs": [],
   "source": [
    "def LoadFaceImages(pathname, subject_name, num_images):\n",
    "    \"\"\"\n",
    "    Load the set of face images.  \n",
    "    The routine returns\n",
    "        ambimage: image illuminated under the ambient lighting\n",
    "        imarray: a 3-D array of images, h x w x Nimages\n",
    "        lightdirs: Nimages x 3 array of light source directions\n",
    "    \"\"\"\n",
    "\n",
    "    def load_image(fname):\n",
    "        ##print(np.asarray(Image.open(fname)).shape)\n",
    "        return np.asarray(Image.open(fname))\n",
    "\n",
    "    def fname_to_ang(fname):\n",
    "        yale_name = os.path.basename(fname)\n",
    "        return int(yale_name[12:16]), int(yale_name[17:20])\n",
    "\n",
    "    def sph2cart(az, el, r):\n",
    "        rcos_theta = r * np.cos(el)\n",
    "        x = rcos_theta * np.cos(az)\n",
    "        y = rcos_theta * np.sin(az)\n",
    "        z = r * np.sin(el)\n",
    "        return x, y, z\n",
    "\n",
    "    ambimage = load_image(\n",
    "        os.path.join(pathname, subject_name + '_P00_Ambient.pgm'))\n",
    "    im_list = glob.glob(os.path.join(pathname, subject_name + '_P00A*.pgm'))\n",
    "    if num_images <= len(im_list):\n",
    "        im_sub_list = np.random.choice(im_list, num_images, replace=False)\n",
    "    else:\n",
    "        print(\n",
    "            'Total available images is less than specified.\\nProceeding with %d images.\\n'\n",
    "            % len(im_list))\n",
    "        im_sub_list = im_list\n",
    "    im_sub_list.sort()\n",
    "    imarray = np.stack([load_image(fname) for fname in im_sub_list], axis=-1)\n",
    "    Ang = np.array([fname_to_ang(fname) for fname in im_sub_list])\n",
    "\n",
    "    x, y, z = sph2cart(Ang[:, 0] / 180.0 * np.pi, Ang[:, 1] / 180.0 * np.pi, 1)\n",
    "    lightdirs = np.stack([y, z, x], axis=-1)\n",
    "    return ambimage, imarray, lightdirs"
   ]
  },
  {
   "cell_type": "code",
   "execution_count": 232,
   "metadata": {},
   "outputs": [],
   "source": [
    "def save_outputs(subject_name, albedo_image, surface_normals):\n",
    "    im = Image.fromarray((albedo_image*255).astype(np.uint8))\n",
    "    im.save(\"%s_albedo.jpg\" % subject_name)\n",
    "    im = Image.fromarray((surface_normals[:,:,0]*128+128).astype(np.uint8))\n",
    "    im.save(\"%s_normals_x.jpg\" % subject_name)\n",
    "    im = Image.fromarray((surface_normals[:,:,1]*128+128).astype(np.uint8))\n",
    "    im.save(\"%s_normals_y.jpg\" % subject_name)\n",
    "    im = Image.fromarray((surface_normals[:,:,2]*128+128).astype(np.uint8))\n",
    "    im.save(\"%s_normals_z.jpg\" % subject_name)"
   ]
  },
  {
   "cell_type": "markdown",
   "metadata": {},
   "source": [
    "### Plot the height map"
   ]
  },
  {
   "cell_type": "code",
   "execution_count": 233,
   "metadata": {},
   "outputs": [],
   "source": [
    "def set_aspect_equal_3d(ax):\n",
    "    \"\"\"https://stackoverflow.com/questions/13685386\"\"\"\n",
    "    \"\"\"Fix equal aspect bug for 3D plots.\"\"\"\n",
    "    xlim = ax.get_xlim3d()\n",
    "    ylim = ax.get_ylim3d()\n",
    "    zlim = ax.get_zlim3d()\n",
    "    from numpy import mean\n",
    "    xmean = mean(xlim)\n",
    "    ymean = mean(ylim)\n",
    "    zmean = mean(zlim)\n",
    "    plot_radius = max([\n",
    "        abs(lim - mean_)\n",
    "        for lims, mean_ in ((xlim, xmean), (ylim, ymean), (zlim, zmean))\n",
    "        for lim in lims\n",
    "    ])\n",
    "    ax.set_xlim3d([xmean - plot_radius, xmean + plot_radius])\n",
    "    ax.set_ylim3d([ymean - plot_radius, ymean + plot_radius])\n",
    "    ax.set_zlim3d([zmean - plot_radius, zmean + plot_radius])\n",
    "\n",
    "\n",
    "def display_output(albedo_image, height_map):\n",
    "    fig = plt.figure()\n",
    "    plt.imshow(albedo_image, cmap='gray')\n",
    "    plt.axis('off')\n",
    "    \n",
    "    fig = plt.figure(figsize=(10, 10))\n",
    "    ax = fig.gca(projection='3d')\n",
    "    ax.view_init(20, 20)\n",
    "    X = np.arange(albedo_image.shape[0])\n",
    "    Y = np.arange(albedo_image.shape[1])\n",
    "    X, Y = np.meshgrid(Y, X)\n",
    "    H = np.flipud(np.fliplr(height_map))\n",
    "    A = np.flipud(np.fliplr(albedo_image))\n",
    "    A = np.stack([A, A, A], axis=-1)\n",
    "    ax.xaxis.set_ticks([])\n",
    "    ax.xaxis.set_label_text('Z')\n",
    "    ax.yaxis.set_ticks([])\n",
    "    ax.yaxis.set_label_text('X')\n",
    "    ax.zaxis.set_ticks([])\n",
    "    ax.yaxis.set_label_text('Y')\n",
    "    surf = ax.plot_surface(\n",
    "        H, X, Y, cmap='gray', facecolors=A, linewidth=0, antialiased=False)\n",
    "    set_aspect_equal_3d(ax)"
   ]
  },
  {
   "cell_type": "markdown",
   "metadata": {},
   "source": [
    "### Plot the surface norms. "
   ]
  },
  {
   "cell_type": "code",
   "execution_count": 234,
   "metadata": {},
   "outputs": [],
   "source": [
    "def plot_surface_normals(surface_normals):\n",
    "    \"\"\"\n",
    "    surface_normals: h x w x 3 matrix.\n",
    "    \"\"\"\n",
    "    fig = plt.figure()\n",
    "    ax = plt.subplot(1, 3, 1)\n",
    "    ax.axis('off')\n",
    "    ax.set_title('X')\n",
    "    im = ax.imshow(surface_normals[:,:,0])\n",
    "    ax = plt.subplot(1, 3, 2)\n",
    "    ax.axis('off')\n",
    "    ax.set_title('Y')\n",
    "    im = ax.imshow(surface_normals[:,:,1])\n",
    "    ax = plt.subplot(1, 3, 3)\n",
    "    ax.axis('off')\n",
    "    ax.set_title('Z')\n",
    "    im = ax.imshow(surface_normals[:,:,2])"
   ]
  },
  {
   "cell_type": "markdown",
   "metadata": {},
   "source": [
    "# Your implementation"
   ]
  },
  {
   "cell_type": "code",
   "execution_count": 235,
   "metadata": {},
   "outputs": [],
   "source": [
    "def preprocess(ambimage, imarray):\n",
    "    \"\"\"\n",
    "    preprocess the data: \n",
    "        1. subtract ambient_image from each image in imarray.\n",
    "        2. make sure no pixel is less than zero.\n",
    "        3. rescale values in imarray to be between 0 and 1.\n",
    "    Inputs:\n",
    "        ambimage: h x w\n",
    "        imarray: h x w x Nimages\n",
    "    Outputs:\n",
    "        processed_imarray: h x w x Nimages\n",
    "    \"\"\"\n",
    "    (x,y,z) = imarray.shape\n",
    "    # x = 192, y = 168, z = 64\n",
    "    \n",
    "    # processed_imarray = np.empty_like(imarray)\n",
    "    print(imarray.shape)\n",
    "    print(ambimage.shape)\n",
    "    \n",
    "    temp_array = imarray.T - ambimage.T  # broadcasting\n",
    "    processed_imarray  = temp_array.T\n",
    "    \n",
    "    processed_imarray[processed_imarray < 0] = 0\n",
    "    processed_imarray = processed_imarray/255\n",
    "    \n",
    "    print(processed_imarray)\n",
    "\n",
    "    return processed_imarray"
   ]
  },
  {
   "cell_type": "code",
   "execution_count": 236,
   "metadata": {},
   "outputs": [],
   "source": [
    "def photometric_stereo(imarray, light_dirs):\n",
    "    \"\"\"\n",
    "    Inputs:\n",
    "        imarray:  h x w x Nimages\n",
    "        light_dirs: Nimages x 3\n",
    "    Outputs:\n",
    "        albedo_image: h x w\n",
    "        surface_norms: h x w x 3\n",
    "    \"\"\"\n",
    "    return albedo_image, surface_normals"
   ]
  },
  {
   "cell_type": "code",
   "execution_count": 237,
   "metadata": {},
   "outputs": [],
   "source": [
    "def get_surface(surface_normals, integration_method):\n",
    "    \"\"\"\n",
    "    Inputs:\n",
    "        surface_normals:h x w x 3\n",
    "        integration_method: string in ['average', 'column', 'row', 'random']\n",
    "    Outputs:\n",
    "        height_map: h x w\n",
    "    \"\"\"\n",
    "    return height_map"
   ]
  },
  {
   "cell_type": "markdown",
   "metadata": {},
   "source": [
    "# Main function"
   ]
  },
  {
   "cell_type": "code",
   "execution_count": 238,
   "metadata": {},
   "outputs": [
    {
     "name": "stdout",
     "output_type": "stream",
     "text": [
      "(192, 168, 64)\n",
      "(192, 168)\n",
      "[[[ 0.03921569  0.00784314  0.00784314 ...,  0.          0.          0.        ]\n",
      "  [ 0.01960784  0.00784314  0.         ...,  0.          0.          0.        ]\n",
      "  [ 0.03137255  0.01960784  0.         ...,  0.          0.          0.        ]\n",
      "  ..., \n",
      "  [ 0.05490196  0.07843137  0.03529412 ...,  0.01176471  0.0627451\n",
      "    0.00392157]\n",
      "  [ 0.06666667  0.07843137  0.02745098 ...,  0.03921569  0.09803922\n",
      "    0.00784314]\n",
      "  [ 0.05882353  0.07058824  0.03921569 ...,  0.06666667  0.15294118\n",
      "    0.01568627]]\n",
      "\n",
      " [[ 0.02745098  0.00784314  0.01176471 ...,  0.          0.          0.        ]\n",
      "  [ 0.01568627  0.00784314  0.         ...,  0.          0.          0.        ]\n",
      "  [ 0.02745098  0.01960784  0.00392157 ...,  0.          0.          0.        ]\n",
      "  ..., \n",
      "  [ 0.07058824  0.08235294  0.03137255 ...,  0.01176471  0.03921569\n",
      "    0.00392157]\n",
      "  [ 0.06666667  0.0745098   0.02352941 ...,  0.03921569  0.10980392\n",
      "    0.00784314]\n",
      "  [ 0.05490196  0.05882353  0.03529412 ...,  0.07058824  0.1254902\n",
      "    0.01568627]]\n",
      "\n",
      " [[ 0.02745098  0.01176471  0.00784314 ...,  0.          0.          0.        ]\n",
      "  [ 0.01960784  0.02352941  0.00392157 ...,  0.          0.          0.        ]\n",
      "  [ 0.04313725  0.01176471  0.01176471 ...,  0.          0.          0.        ]\n",
      "  ..., \n",
      "  [ 0.07058824  0.09411765  0.03137255 ...,  0.01960784  0.03529412\n",
      "    0.00784314]\n",
      "  [ 0.05098039  0.06666667  0.01960784 ...,  0.03921569  0.10588235\n",
      "    0.01568627]\n",
      "  [ 0.05098039  0.05490196  0.03529412 ...,  0.08235294  0.1254902\n",
      "    0.01960784]]\n",
      "\n",
      " ..., \n",
      " [[ 0.01960784  0.00392157  0.00392157 ...,  0.          0.          0.00392157]\n",
      "  [ 0.02352941  0.00784314  0.00392157 ...,  0.          0.          0.00392157]\n",
      "  [ 0.02352941  0.00784314  0.00392157 ...,  0.          0.          0.00392157]\n",
      "  ..., \n",
      "  [ 0.23921569  0.03137255  0.03137255 ...,  0.15686275  0.39607843\n",
      "    0.72941176]\n",
      "  [ 0.15686275  0.03529412  0.03137255 ...,  0.15686275  0.37647059\n",
      "    0.54901961]\n",
      "  [ 0.09019608  0.02352941  0.02352941 ...,  0.09803922  0.22745098\n",
      "    0.32156863]]\n",
      "\n",
      " [[ 0.01960784  0.00392157  0.00392157 ...,  0.          0.          0.00392157]\n",
      "  [ 0.02352941  0.00784314  0.00392157 ...,  0.          0.          0.00392157]\n",
      "  [ 0.01960784  0.00784314  0.00392157 ...,  0.          0.          0.00392157]\n",
      "  ..., \n",
      "  [ 0.57254902  0.03529412  0.02745098 ...,  0.13333333  0.30980392\n",
      "    0.90196078]\n",
      "  [ 0.45882353  0.03137255  0.02352941 ...,  0.1372549   0.31764706\n",
      "    0.81568627]\n",
      "  [ 0.41568627  0.03529412  0.03137255 ...,  0.12941176  0.31764706\n",
      "    0.7372549 ]]\n",
      "\n",
      " [[ 0.01960784  0.00392157  0.00392157 ...,  0.          0.          0.00784314]\n",
      "  [ 0.02745098  0.00784314  0.00784314 ...,  0.          0.          0.00784314]\n",
      "  [ 0.01960784  0.00784314  0.00784314 ...,  0.          0.          0.00784314]\n",
      "  ..., \n",
      "  [ 0.73333333  0.02745098  0.02352941 ...,  0.11764706  0.20392157\n",
      "    0.54901961]\n",
      "  [ 0.70588235  0.03529412  0.01960784 ...,  0.1254902   0.21176471  0.6       ]\n",
      "  [ 0.65490196  0.03529412  0.02352941 ...,  0.12156863  0.20784314\n",
      "    0.62745098]]]\n"
     ]
    },
    {
     "ename": "NameError",
     "evalue": "name 'albedo_image' is not defined",
     "output_type": "error",
     "traceback": [
      "\u001b[0;31m---------------------------------------------------------------------------\u001b[0m",
      "\u001b[0;31mNameError\u001b[0m                                 Traceback (most recent call last)",
      "\u001b[0;32m<ipython-input-238-507201cf6bc3>\u001b[0m in \u001b[0;36m<module>\u001b[0;34m()\u001b[0m\n\u001b[1;32m     11\u001b[0m \u001b[0;34m\u001b[0m\u001b[0m\n\u001b[1;32m     12\u001b[0m albedo_image, surface_normals = photometric_stereo(processed_imarray,\n\u001b[0;32m---> 13\u001b[0;31m                                                    light_dirs)\n\u001b[0m\u001b[1;32m     14\u001b[0m \u001b[0;34m\u001b[0m\u001b[0m\n\u001b[1;32m     15\u001b[0m \u001b[0mheight_map\u001b[0m \u001b[0;34m=\u001b[0m \u001b[0mget_surface\u001b[0m\u001b[0;34m(\u001b[0m\u001b[0msurface_normals\u001b[0m\u001b[0;34m,\u001b[0m \u001b[0;34m'average'\u001b[0m\u001b[0;34m)\u001b[0m\u001b[0;34m\u001b[0m\u001b[0m\n",
      "\u001b[0;32m<ipython-input-236-77a240a1590d>\u001b[0m in \u001b[0;36mphotometric_stereo\u001b[0;34m(imarray, light_dirs)\u001b[0m\n\u001b[1;32m      8\u001b[0m         \u001b[0msurface_norms\u001b[0m\u001b[0;34m:\u001b[0m \u001b[0mh\u001b[0m \u001b[0mx\u001b[0m \u001b[0mw\u001b[0m \u001b[0mx\u001b[0m \u001b[0;36m3\u001b[0m\u001b[0;34m\u001b[0m\u001b[0m\n\u001b[1;32m      9\u001b[0m     \"\"\"\n\u001b[0;32m---> 10\u001b[0;31m     \u001b[0;32mreturn\u001b[0m \u001b[0malbedo_image\u001b[0m\u001b[0;34m,\u001b[0m \u001b[0msurface_normals\u001b[0m\u001b[0;34m\u001b[0m\u001b[0m\n\u001b[0m",
      "\u001b[0;31mNameError\u001b[0m: name 'albedo_image' is not defined"
     ]
    }
   ],
   "source": [
    "root_path = './croppedyale/'\n",
    "subject_name = 'yaleB05'\n",
    "integration_method = 'average'\n",
    "save_flag = True\n",
    "\n",
    "full_path = '%s%s' % (root_path, subject_name)\n",
    "ambient_image, imarray, light_dirs = LoadFaceImages(full_path, subject_name,\n",
    "                                                    64)\n",
    "\n",
    "processed_imarray = preprocess(ambient_image, imarray)\n",
    "\n",
    "albedo_image, surface_normals = photometric_stereo(processed_imarray,\n",
    "                                                   light_dirs)\n",
    "\n",
    "height_map = get_surface(surface_normals, 'average')\n",
    "\n",
    "if save_flag:\n",
    "    save_outputs(subject_name, albedo_image, surface_normals)"
   ]
  },
  {
   "cell_type": "code",
   "execution_count": null,
   "metadata": {},
   "outputs": [],
   "source": [
    "plot_surface_normals(surface_normals)"
   ]
  },
  {
   "cell_type": "code",
   "execution_count": null,
   "metadata": {},
   "outputs": [],
   "source": [
    "display_output(albedo_image, height_map)"
   ]
  }
 ],
 "metadata": {
  "kernelspec": {
   "display_name": "Python 3",
   "language": "python",
   "name": "python3"
  },
  "language_info": {
   "codemirror_mode": {
    "name": "ipython",
    "version": 3
   },
   "file_extension": ".py",
   "mimetype": "text/x-python",
   "name": "python",
   "nbconvert_exporter": "python",
   "pygments_lexer": "ipython3",
   "version": "3.6.2"
  }
 },
 "nbformat": 4,
 "nbformat_minor": 2
}
